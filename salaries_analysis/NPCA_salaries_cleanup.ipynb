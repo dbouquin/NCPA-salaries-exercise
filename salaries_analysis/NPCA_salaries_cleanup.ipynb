{
 "cells": [
  {
   "cell_type": "markdown",
   "id": "b04cae50",
   "metadata": {},
   "source": [
    "# NPCA Salaries Clean-up Exercise\n",
    "\n",
    "Daina Bouquin"
   ]
  },
  {
   "cell_type": "code",
   "execution_count": 1,
   "id": "a78cef3c",
   "metadata": {},
   "outputs": [],
   "source": [
    "import pandas as pd\n",
    "import numpy as np"
   ]
  },
  {
   "cell_type": "markdown",
   "id": "fda8aeeb",
   "metadata": {},
   "source": [
    "# Import and additional restructuring\n",
    "\n",
    "## Convert xlsx to dataframe"
   ]
  },
  {
   "cell_type": "code",
   "execution_count": 2,
   "id": "290287a9",
   "metadata": {},
   "outputs": [],
   "source": [
    "df = pd.read_excel(r'SalarySurveyExercise.xlsx') "
   ]
  },
  {
   "cell_type": "markdown",
   "id": "f8ca0e7a",
   "metadata": {},
   "source": [
    "## Create unique IDs"
   ]
  },
  {
   "cell_type": "code",
   "execution_count": 3,
   "id": "46d140a5",
   "metadata": {},
   "outputs": [],
   "source": [
    "df[\"id\"] = df.index + 1 # add ID column\n",
    "cols = df.columns.tolist() # columns to list to make rearranging them easier \n",
    "cols = cols[-1:] + cols[:-1] # move ID column to the front\n",
    "df = df[cols] "
   ]
  },
  {
   "cell_type": "markdown",
   "id": "c318f856",
   "metadata": {},
   "source": [
    "## Rename columns"
   ]
  },
  {
   "cell_type": "code",
   "execution_count": 4,
   "id": "6ed09481",
   "metadata": {},
   "outputs": [],
   "source": [
    "# rename method 1\n",
    "df.rename(columns={'Timestamp': 'timestamp',\n",
    "                   'How old are you?': 'age_range',\n",
    "                   'What industry do you work in?': 'industry',\n",
    "                   'Job title': 'job',\n",
    "                   'If your job title needs additional context, please clarify here:': 'job_context',\n",
    "                   'Please indicate the currency': 'currency',\n",
    "                   'If \"Other,\" please indicate the currency here:': 'other_currency',\n",
    "                   'If your income needs additional context, please provide it here:': 'income_context',\n",
    "                   'What country do you work in?': 'country',\n",
    "                   'What city do you work in?': 'city',\n",
    "                   'How many years of professional work experience do you have overall?': 'all_experience',\n",
    "                   'How many years of professional work experience do you have in your field?': 'field_experience',\n",
    "                   'What is your highest level of education completed?': 'education-level',\n",
    "                   'What is your gender?': 'gender'\n",
    "                  }, inplace=True)\n",
    "\n",
    "# rename method 2 (columns with problem characters)\n",
    "df.columns.values[6] = 'annual_salary'\n",
    "df.columns.values[7] = 'add_compensation'\n",
    "df.columns.values[12] = 'state'\n",
    "df.columns.values[18] = 'race'"
   ]
  },
  {
   "cell_type": "markdown",
   "id": "98d6d3f4",
   "metadata": {},
   "source": [
    "## Clean up country names"
   ]
  },
  {
   "cell_type": "code",
   "execution_count": 5,
   "id": "39e2129e",
   "metadata": {},
   "outputs": [
    {
     "data": {
      "text/plain": [
       "array(['United States', 'USA', 'Canada', 'Spain', 'England', 'US',\n",
       "       'United Kingdom', 'UK', 'United States of America', 'U.S.A.',\n",
       "       'Netherlands', 'Uk', 'U.S.', 'usa', 'Germany', 'Us', 'Usa',\n",
       "       'Belgium', 'South Africa', 'us', 'U.S.A', 'Sweden', 'England/UK',\n",
       "       'France', 'Australia', 'united states',\n",
       "       'Worldwide (based in US but short term trips aroudn the world)',\n",
       "       'Denmark', 'Unted States', 'United State', 'Trinidad and Tobago',\n",
       "       'United states', 'United kingdom', 'Scotland', 'America',\n",
       "       'Finland', 'Unites States', 'Bangladesh', 'Ireland',\n",
       "       'Currently finance', ' U.S.', 'U.S', 'Turkey', 'canada', 'Japan',\n",
       "       'Hong Kong', 'India', 'Czech Republic', 'Switzerland',\n",
       "       'New Zealand', 'Indonesia', 'Norway', 'The Netherlands', 'The US',\n",
       "       'Singapore', 'Wales (United Kingdom)', 'UnitedStates', 'UAE',\n",
       "       'Unite States', 'USAB', 'Unites states', 'Unites kingdom', 'U. S.',\n",
       "       'SWITZERLAND', 'Malaysia',\n",
       "       \"I work for an US based company but I'm from Argentina.\", 'uk',\n",
       "       'Portugal', 'Israel', 'United states of America', 'Brazil',\n",
       "       'South Korea', 'Austria', 'Latvia', 'Romania', 'UA', 'Lithuania',\n",
       "       'united kingdom', 'Wales', 'Estonia', 'NZ',\n",
       "       'England, United Kingdom', 'Bermuda', 'Aotearoa New Zealand',\n",
       "       'new zealand', 'Thailand', 'Cyprus', 'NIGERIA', 'Poland'],\n",
       "      dtype=object)"
      ]
     },
     "execution_count": 5,
     "metadata": {},
     "output_type": "execute_result"
    }
   ],
   "source": [
    "df.country.unique()"
   ]
  },
  {
   "cell_type": "code",
   "execution_count": 6,
   "id": "1be125d3",
   "metadata": {},
   "outputs": [
    {
     "data": {
      "text/html": [
       "<div>\n",
       "<style scoped>\n",
       "    .dataframe tbody tr th:only-of-type {\n",
       "        vertical-align: middle;\n",
       "    }\n",
       "\n",
       "    .dataframe tbody tr th {\n",
       "        vertical-align: top;\n",
       "    }\n",
       "\n",
       "    .dataframe thead th {\n",
       "        text-align: right;\n",
       "    }\n",
       "</style>\n",
       "<table border=\"1\" class=\"dataframe\">\n",
       "  <thead>\n",
       "    <tr style=\"text-align: right;\">\n",
       "      <th></th>\n",
       "      <th>id</th>\n",
       "      <th>timestamp</th>\n",
       "      <th>age_range</th>\n",
       "      <th>industry</th>\n",
       "      <th>job</th>\n",
       "      <th>job_context</th>\n",
       "      <th>annual_salary</th>\n",
       "      <th>add_compensation</th>\n",
       "      <th>currency</th>\n",
       "      <th>other_currency</th>\n",
       "      <th>income_context</th>\n",
       "      <th>country</th>\n",
       "      <th>state</th>\n",
       "      <th>city</th>\n",
       "      <th>all_experience</th>\n",
       "      <th>field_experience</th>\n",
       "      <th>education-level</th>\n",
       "      <th>gender</th>\n",
       "      <th>race</th>\n",
       "    </tr>\n",
       "  </thead>\n",
       "  <tbody>\n",
       "    <tr>\n",
       "      <th>750</th>\n",
       "      <td>751</td>\n",
       "      <td>2021-04-27 14:44:02</td>\n",
       "      <td>45-54</td>\n",
       "      <td>Marketing, Advertising &amp; PR</td>\n",
       "      <td>Digital Specialist</td>\n",
       "      <td>NaN</td>\n",
       "      <td>90000</td>\n",
       "      <td>0.0</td>\n",
       "      <td>USD</td>\n",
       "      <td>NaN</td>\n",
       "      <td>NaN</td>\n",
       "      <td>Currently finance</td>\n",
       "      <td>Oregon</td>\n",
       "      <td>Portland</td>\n",
       "      <td>11 - 20 years</td>\n",
       "      <td>11 - 20 years</td>\n",
       "      <td>College degree</td>\n",
       "      <td>Man</td>\n",
       "      <td>White</td>\n",
       "    </tr>\n",
       "  </tbody>\n",
       "</table>\n",
       "</div>"
      ],
      "text/plain": [
       "      id           timestamp age_range                     industry  \\\n",
       "750  751 2021-04-27 14:44:02     45-54  Marketing, Advertising & PR   \n",
       "\n",
       "                    job job_context  annual_salary  add_compensation currency  \\\n",
       "750  Digital Specialist         NaN          90000               0.0      USD   \n",
       "\n",
       "    other_currency income_context            country   state      city  \\\n",
       "750            NaN            NaN  Currently finance  Oregon  Portland   \n",
       "\n",
       "    all_experience field_experience education-level gender   race  \n",
       "750  11 - 20 years    11 - 20 years  College degree    Man  White  "
      ]
     },
     "execution_count": 6,
     "metadata": {},
     "output_type": "execute_result"
    }
   ],
   "source": [
    "# inspect anomalies \n",
    "df.loc[df['country'] == 'Currently finance'] "
   ]
  },
  {
   "cell_type": "code",
   "execution_count": 7,
   "id": "6f52ab01",
   "metadata": {},
   "outputs": [],
   "source": [
    "df['country'] = df['country'].replace(['Currently finance'], 'United States') \n",
    "# code as USA"
   ]
  },
  {
   "cell_type": "code",
   "execution_count": 8,
   "id": "5b024fc5",
   "metadata": {},
   "outputs": [
    {
     "data": {
      "text/html": [
       "<div>\n",
       "<style scoped>\n",
       "    .dataframe tbody tr th:only-of-type {\n",
       "        vertical-align: middle;\n",
       "    }\n",
       "\n",
       "    .dataframe tbody tr th {\n",
       "        vertical-align: top;\n",
       "    }\n",
       "\n",
       "    .dataframe thead th {\n",
       "        text-align: right;\n",
       "    }\n",
       "</style>\n",
       "<table border=\"1\" class=\"dataframe\">\n",
       "  <thead>\n",
       "    <tr style=\"text-align: right;\">\n",
       "      <th></th>\n",
       "      <th>id</th>\n",
       "      <th>timestamp</th>\n",
       "      <th>age_range</th>\n",
       "      <th>industry</th>\n",
       "      <th>job</th>\n",
       "      <th>job_context</th>\n",
       "      <th>annual_salary</th>\n",
       "      <th>add_compensation</th>\n",
       "      <th>currency</th>\n",
       "      <th>other_currency</th>\n",
       "      <th>income_context</th>\n",
       "      <th>country</th>\n",
       "      <th>state</th>\n",
       "      <th>city</th>\n",
       "      <th>all_experience</th>\n",
       "      <th>field_experience</th>\n",
       "      <th>education-level</th>\n",
       "      <th>gender</th>\n",
       "      <th>race</th>\n",
       "    </tr>\n",
       "  </thead>\n",
       "  <tbody>\n",
       "    <tr>\n",
       "      <th>2117</th>\n",
       "      <td>2118</td>\n",
       "      <td>2021-04-29 14:04:07</td>\n",
       "      <td>35-44</td>\n",
       "      <td>Education (Higher Education)</td>\n",
       "      <td>Associate Consultant</td>\n",
       "      <td>NaN</td>\n",
       "      <td>105000</td>\n",
       "      <td>18000.0</td>\n",
       "      <td>USD</td>\n",
       "      <td>NaN</td>\n",
       "      <td>NaN</td>\n",
       "      <td>UA</td>\n",
       "      <td>Minnesota</td>\n",
       "      <td>Minneapolis</td>\n",
       "      <td>11 - 20 years</td>\n",
       "      <td>11 - 20 years</td>\n",
       "      <td>College degree</td>\n",
       "      <td>Woman</td>\n",
       "      <td>White</td>\n",
       "    </tr>\n",
       "  </tbody>\n",
       "</table>\n",
       "</div>"
      ],
      "text/plain": [
       "        id           timestamp age_range                      industry  \\\n",
       "2117  2118 2021-04-29 14:04:07     35-44  Education (Higher Education)   \n",
       "\n",
       "                       job job_context  annual_salary  add_compensation  \\\n",
       "2117  Associate Consultant         NaN         105000           18000.0   \n",
       "\n",
       "     currency other_currency income_context country      state         city  \\\n",
       "2117      USD            NaN            NaN      UA  Minnesota  Minneapolis   \n",
       "\n",
       "     all_experience field_experience education-level gender   race  \n",
       "2117  11 - 20 years    11 - 20 years  College degree  Woman  White  "
      ]
     },
     "execution_count": 8,
     "metadata": {},
     "output_type": "execute_result"
    }
   ],
   "source": [
    "# inspect anomalies \n",
    "df.loc[df['country'] == 'UA']"
   ]
  },
  {
   "cell_type": "code",
   "execution_count": 9,
   "id": "dd84194c",
   "metadata": {},
   "outputs": [],
   "source": [
    "df['country'] = df['country'].replace(['UA'], 'United States') \n",
    "# code as USA"
   ]
  },
  {
   "cell_type": "code",
   "execution_count": 10,
   "id": "af7daa56",
   "metadata": {},
   "outputs": [
    {
     "data": {
      "text/html": [
       "<div>\n",
       "<style scoped>\n",
       "    .dataframe tbody tr th:only-of-type {\n",
       "        vertical-align: middle;\n",
       "    }\n",
       "\n",
       "    .dataframe tbody tr th {\n",
       "        vertical-align: top;\n",
       "    }\n",
       "\n",
       "    .dataframe thead th {\n",
       "        text-align: right;\n",
       "    }\n",
       "</style>\n",
       "<table border=\"1\" class=\"dataframe\">\n",
       "  <thead>\n",
       "    <tr style=\"text-align: right;\">\n",
       "      <th></th>\n",
       "      <th>id</th>\n",
       "      <th>timestamp</th>\n",
       "      <th>age_range</th>\n",
       "      <th>industry</th>\n",
       "      <th>job</th>\n",
       "      <th>job_context</th>\n",
       "      <th>annual_salary</th>\n",
       "      <th>add_compensation</th>\n",
       "      <th>currency</th>\n",
       "      <th>other_currency</th>\n",
       "      <th>income_context</th>\n",
       "      <th>country</th>\n",
       "      <th>state</th>\n",
       "      <th>city</th>\n",
       "      <th>all_experience</th>\n",
       "      <th>field_experience</th>\n",
       "      <th>education-level</th>\n",
       "      <th>gender</th>\n",
       "      <th>race</th>\n",
       "    </tr>\n",
       "  </thead>\n",
       "  <tbody>\n",
       "    <tr>\n",
       "      <th>1669</th>\n",
       "      <td>1670</td>\n",
       "      <td>2021-04-28 17:38:09</td>\n",
       "      <td>25-34</td>\n",
       "      <td>Translation</td>\n",
       "      <td>Audiovisual Translator</td>\n",
       "      <td>NaN</td>\n",
       "      <td>240000</td>\n",
       "      <td>NaN</td>\n",
       "      <td>Other</td>\n",
       "      <td>ARS</td>\n",
       "      <td>I'm a freelancer, so my work varies tremendous...</td>\n",
       "      <td>I work for an US based company but I'm from Ar...</td>\n",
       "      <td>NaN</td>\n",
       "      <td>San Nicolás de los Arroyos</td>\n",
       "      <td>2 - 4 years</td>\n",
       "      <td>5-7 years</td>\n",
       "      <td>College degree</td>\n",
       "      <td>Woman</td>\n",
       "      <td>Hispanic, Latino, or Spanish origin</td>\n",
       "    </tr>\n",
       "  </tbody>\n",
       "</table>\n",
       "</div>"
      ],
      "text/plain": [
       "        id           timestamp age_range     industry                     job  \\\n",
       "1669  1670 2021-04-28 17:38:09     25-34  Translation  Audiovisual Translator   \n",
       "\n",
       "     job_context  annual_salary  add_compensation currency other_currency  \\\n",
       "1669         NaN         240000               NaN    Other            ARS   \n",
       "\n",
       "                                         income_context  \\\n",
       "1669  I'm a freelancer, so my work varies tremendous...   \n",
       "\n",
       "                                                country state  \\\n",
       "1669  I work for an US based company but I'm from Ar...   NaN   \n",
       "\n",
       "                            city all_experience field_experience  \\\n",
       "1669  San Nicolás de los Arroyos    2 - 4 years        5-7 years   \n",
       "\n",
       "     education-level gender                                 race  \n",
       "1669  College degree  Woman  Hispanic, Latino, or Spanish origin  "
      ]
     },
     "execution_count": 10,
     "metadata": {},
     "output_type": "execute_result"
    }
   ],
   "source": [
    "# inspect anomalies \n",
    "df.loc[df['country'] == 'I work for an US based company but I\\'m from Argentina.'] "
   ]
  },
  {
   "cell_type": "code",
   "execution_count": 11,
   "id": "966209dd",
   "metadata": {},
   "outputs": [],
   "source": [
    "df['country'] = df['country'].replace(['I work for an US based company but I\\'m from Argentina.'], 'Argentina') \n",
    "# code as Argentina"
   ]
  },
  {
   "cell_type": "code",
   "execution_count": 12,
   "id": "4e340711",
   "metadata": {},
   "outputs": [
    {
     "data": {
      "text/html": [
       "<div>\n",
       "<style scoped>\n",
       "    .dataframe tbody tr th:only-of-type {\n",
       "        vertical-align: middle;\n",
       "    }\n",
       "\n",
       "    .dataframe tbody tr th {\n",
       "        vertical-align: top;\n",
       "    }\n",
       "\n",
       "    .dataframe thead th {\n",
       "        text-align: right;\n",
       "    }\n",
       "</style>\n",
       "<table border=\"1\" class=\"dataframe\">\n",
       "  <thead>\n",
       "    <tr style=\"text-align: right;\">\n",
       "      <th></th>\n",
       "      <th>id</th>\n",
       "      <th>timestamp</th>\n",
       "      <th>age_range</th>\n",
       "      <th>industry</th>\n",
       "      <th>job</th>\n",
       "      <th>job_context</th>\n",
       "      <th>annual_salary</th>\n",
       "      <th>add_compensation</th>\n",
       "      <th>currency</th>\n",
       "      <th>other_currency</th>\n",
       "      <th>income_context</th>\n",
       "      <th>country</th>\n",
       "      <th>state</th>\n",
       "      <th>city</th>\n",
       "      <th>all_experience</th>\n",
       "      <th>field_experience</th>\n",
       "      <th>education-level</th>\n",
       "      <th>gender</th>\n",
       "      <th>race</th>\n",
       "    </tr>\n",
       "  </thead>\n",
       "  <tbody>\n",
       "    <tr>\n",
       "      <th>313</th>\n",
       "      <td>314</td>\n",
       "      <td>2021-04-27 11:56:49</td>\n",
       "      <td>35-44</td>\n",
       "      <td>Federal Government Contracting</td>\n",
       "      <td>Senior Acquisition &amp; Assistance Specialist</td>\n",
       "      <td>I do the same job as a federal direct hire, bu...</td>\n",
       "      <td>125500</td>\n",
       "      <td>2000.0</td>\n",
       "      <td>USD</td>\n",
       "      <td>NaN</td>\n",
       "      <td>I have a base salary but I bill to my contract...</td>\n",
       "      <td>Worldwide (based in US but short term trips ar...</td>\n",
       "      <td>District of Columbia</td>\n",
       "      <td>Washington, DC</td>\n",
       "      <td>11 - 20 years</td>\n",
       "      <td>11 - 20 years</td>\n",
       "      <td>Master's degree</td>\n",
       "      <td>Woman</td>\n",
       "      <td>Asian or Asian American, White</td>\n",
       "    </tr>\n",
       "  </tbody>\n",
       "</table>\n",
       "</div>"
      ],
      "text/plain": [
       "      id           timestamp age_range                        industry  \\\n",
       "313  314 2021-04-27 11:56:49     35-44  Federal Government Contracting   \n",
       "\n",
       "                                            job  \\\n",
       "313  Senior Acquisition & Assistance Specialist   \n",
       "\n",
       "                                           job_context  annual_salary  \\\n",
       "313  I do the same job as a federal direct hire, bu...         125500   \n",
       "\n",
       "     add_compensation currency other_currency  \\\n",
       "313            2000.0      USD            NaN   \n",
       "\n",
       "                                        income_context  \\\n",
       "313  I have a base salary but I bill to my contract...   \n",
       "\n",
       "                                               country                 state  \\\n",
       "313  Worldwide (based in US but short term trips ar...  District of Columbia   \n",
       "\n",
       "               city all_experience field_experience  education-level gender  \\\n",
       "313  Washington, DC  11 - 20 years    11 - 20 years  Master's degree  Woman   \n",
       "\n",
       "                               race  \n",
       "313  Asian or Asian American, White  "
      ]
     },
     "execution_count": 12,
     "metadata": {},
     "output_type": "execute_result"
    }
   ],
   "source": [
    "# inspect anomalies \n",
    "df.loc[df['country'] == 'Worldwide (based in US but short term trips aroudn the world)']"
   ]
  },
  {
   "cell_type": "code",
   "execution_count": 13,
   "id": "ed28c8a3",
   "metadata": {},
   "outputs": [],
   "source": [
    "df['country'] = df['country'].replace(['Worldwide (based in US but short term trips aroudn the world)'], 'United States')  # code as USA"
   ]
  },
  {
   "cell_type": "code",
   "execution_count": 14,
   "id": "57d02b47",
   "metadata": {},
   "outputs": [
    {
     "data": {
      "text/html": [
       "<div>\n",
       "<style scoped>\n",
       "    .dataframe tbody tr th:only-of-type {\n",
       "        vertical-align: middle;\n",
       "    }\n",
       "\n",
       "    .dataframe tbody tr th {\n",
       "        vertical-align: top;\n",
       "    }\n",
       "\n",
       "    .dataframe thead th {\n",
       "        text-align: right;\n",
       "    }\n",
       "</style>\n",
       "<table border=\"1\" class=\"dataframe\">\n",
       "  <thead>\n",
       "    <tr style=\"text-align: right;\">\n",
       "      <th></th>\n",
       "      <th>id</th>\n",
       "      <th>timestamp</th>\n",
       "      <th>age_range</th>\n",
       "      <th>industry</th>\n",
       "      <th>job</th>\n",
       "      <th>job_context</th>\n",
       "      <th>annual_salary</th>\n",
       "      <th>add_compensation</th>\n",
       "      <th>currency</th>\n",
       "      <th>other_currency</th>\n",
       "      <th>income_context</th>\n",
       "      <th>country</th>\n",
       "      <th>state</th>\n",
       "      <th>city</th>\n",
       "      <th>all_experience</th>\n",
       "      <th>field_experience</th>\n",
       "      <th>education-level</th>\n",
       "      <th>gender</th>\n",
       "      <th>race</th>\n",
       "    </tr>\n",
       "  </thead>\n",
       "  <tbody>\n",
       "    <tr>\n",
       "      <th>1432</th>\n",
       "      <td>1433</td>\n",
       "      <td>2021-04-28 13:43:11</td>\n",
       "      <td>35-44</td>\n",
       "      <td>Education (Primary/Secondary)</td>\n",
       "      <td>Special Education Teacher</td>\n",
       "      <td>NaN</td>\n",
       "      <td>65000</td>\n",
       "      <td>7500.0</td>\n",
       "      <td>USD</td>\n",
       "      <td>NaN</td>\n",
       "      <td>NaN</td>\n",
       "      <td>USAB</td>\n",
       "      <td>South Carolina</td>\n",
       "      <td>Greenville</td>\n",
       "      <td>11 - 20 years</td>\n",
       "      <td>11 - 20 years</td>\n",
       "      <td>Master's degree</td>\n",
       "      <td>Woman</td>\n",
       "      <td>White</td>\n",
       "    </tr>\n",
       "  </tbody>\n",
       "</table>\n",
       "</div>"
      ],
      "text/plain": [
       "        id           timestamp age_range                       industry  \\\n",
       "1432  1433 2021-04-28 13:43:11     35-44  Education (Primary/Secondary)   \n",
       "\n",
       "                            job job_context  annual_salary  add_compensation  \\\n",
       "1432  Special Education Teacher         NaN          65000            7500.0   \n",
       "\n",
       "     currency other_currency income_context country           state  \\\n",
       "1432      USD            NaN            NaN    USAB  South Carolina   \n",
       "\n",
       "            city all_experience field_experience  education-level gender  \\\n",
       "1432  Greenville  11 - 20 years    11 - 20 years  Master's degree  Woman   \n",
       "\n",
       "       race  \n",
       "1432  White  "
      ]
     },
     "execution_count": 14,
     "metadata": {},
     "output_type": "execute_result"
    }
   ],
   "source": [
    "# inspect anomalies \n",
    "df.loc[df['country'] == 'USAB']"
   ]
  },
  {
   "cell_type": "code",
   "execution_count": 15,
   "id": "9681f959",
   "metadata": {},
   "outputs": [],
   "source": [
    "df['country'] = df['country'].replace(['USAB'], 'United States') \n",
    "# code as USA"
   ]
  },
  {
   "cell_type": "code",
   "execution_count": 16,
   "id": "936667eb",
   "metadata": {},
   "outputs": [
    {
     "data": {
      "text/html": [
       "<div>\n",
       "<style scoped>\n",
       "    .dataframe tbody tr th:only-of-type {\n",
       "        vertical-align: middle;\n",
       "    }\n",
       "\n",
       "    .dataframe tbody tr th {\n",
       "        vertical-align: top;\n",
       "    }\n",
       "\n",
       "    .dataframe thead th {\n",
       "        text-align: right;\n",
       "    }\n",
       "</style>\n",
       "<table border=\"1\" class=\"dataframe\">\n",
       "  <thead>\n",
       "    <tr style=\"text-align: right;\">\n",
       "      <th></th>\n",
       "      <th>id</th>\n",
       "      <th>timestamp</th>\n",
       "      <th>age_range</th>\n",
       "      <th>industry</th>\n",
       "      <th>job</th>\n",
       "      <th>job_context</th>\n",
       "      <th>annual_salary</th>\n",
       "      <th>add_compensation</th>\n",
       "      <th>currency</th>\n",
       "      <th>other_currency</th>\n",
       "      <th>income_context</th>\n",
       "      <th>country</th>\n",
       "      <th>state</th>\n",
       "      <th>city</th>\n",
       "      <th>all_experience</th>\n",
       "      <th>field_experience</th>\n",
       "      <th>education-level</th>\n",
       "      <th>gender</th>\n",
       "      <th>race</th>\n",
       "    </tr>\n",
       "  </thead>\n",
       "  <tbody>\n",
       "    <tr>\n",
       "      <th>1257</th>\n",
       "      <td>1258</td>\n",
       "      <td>2021-04-28 08:49:40</td>\n",
       "      <td>25-34</td>\n",
       "      <td>Property or Construction</td>\n",
       "      <td>Proposals &amp; Marketing Manager</td>\n",
       "      <td>NaN</td>\n",
       "      <td>98000</td>\n",
       "      <td>0.0</td>\n",
       "      <td>USD</td>\n",
       "      <td>NaN</td>\n",
       "      <td>NaN</td>\n",
       "      <td>UAE</td>\n",
       "      <td>NaN</td>\n",
       "      <td>Dubai</td>\n",
       "      <td>8 - 10 years</td>\n",
       "      <td>2 - 4 years</td>\n",
       "      <td>Master's degree</td>\n",
       "      <td>Other or prefer not to answer</td>\n",
       "      <td>Another option not listed here or prefer not t...</td>\n",
       "    </tr>\n",
       "  </tbody>\n",
       "</table>\n",
       "</div>"
      ],
      "text/plain": [
       "        id           timestamp age_range                  industry  \\\n",
       "1257  1258 2021-04-28 08:49:40     25-34  Property or Construction   \n",
       "\n",
       "                                job job_context  annual_salary  \\\n",
       "1257  Proposals & Marketing Manager         NaN          98000   \n",
       "\n",
       "      add_compensation currency other_currency income_context country state  \\\n",
       "1257               0.0      USD            NaN            NaN     UAE   NaN   \n",
       "\n",
       "       city all_experience field_experience  education-level  \\\n",
       "1257  Dubai   8 - 10 years      2 - 4 years  Master's degree   \n",
       "\n",
       "                             gender  \\\n",
       "1257  Other or prefer not to answer   \n",
       "\n",
       "                                                   race  \n",
       "1257  Another option not listed here or prefer not t...  "
      ]
     },
     "execution_count": 16,
     "metadata": {},
     "output_type": "execute_result"
    }
   ],
   "source": [
    "# inspect anomalies \n",
    "df.loc[df['country'] == 'UAE'] "
   ]
  },
  {
   "cell_type": "code",
   "execution_count": 17,
   "id": "a2ac2e42",
   "metadata": {},
   "outputs": [],
   "source": [
    "df['country'] = df['country'].replace(['UAE'], 'United Arab Emirates') \n",
    "# United Arab Emirates"
   ]
  },
  {
   "cell_type": "code",
   "execution_count": 18,
   "id": "c72694d9",
   "metadata": {},
   "outputs": [],
   "source": [
    "# clean up country names\n",
    "df['country'] = df['country'].replace([\n",
    "                    'United States',\n",
    "                    'US',\n",
    "                    'USA',\n",
    "                    'United States of America',\n",
    "                    'U.S.A.',\n",
    "                    'U.S.A',\n",
    "                    'U.S.',\n",
    "                    ' U.S.',\n",
    "                    'usa',\n",
    "                    'Us',\n",
    "                    'Usa',\n",
    "                    'us',\n",
    "                    'united states',\n",
    "                    'Unted States',\n",
    "                    'United State',\n",
    "                    'United states',\n",
    "                    'America',\n",
    "                    'Unites States',\n",
    "                    'U.S',\n",
    "                    'The US',\n",
    "                    'U. S.',\n",
    "                    'UnitedStates', \n",
    "                    'Unite States', \n",
    "                    'Unites states', \n",
    "                    'United states of America',\n",
    "                    'Worldwide (based in US but short term trips aroudn the world)',\n",
    "                    'Currently finance',\n",
    "                    'UA'],\n",
    "                                      'United States')"
   ]
  },
  {
   "cell_type": "code",
   "execution_count": 19,
   "id": "c6fccf64",
   "metadata": {},
   "outputs": [],
   "source": [
    "df['country'] = df['country'].replace([\n",
    "                    'Canada',\n",
    "                    'canada'],\n",
    "                                    'Canada')"
   ]
  },
  {
   "cell_type": "code",
   "execution_count": 20,
   "id": "9f03d10c",
   "metadata": {},
   "outputs": [],
   "source": [
    "df['country'] = df['country'].replace([\n",
    "                    'England',\n",
    "                    'United Kingdom', \n",
    "                    'UK',\n",
    "                    'Uk',\n",
    "                    'England/UK',\n",
    "                    'United kingdom',\n",
    "                    'Scotland',\n",
    "                    'Wales (United Kingdom)',\n",
    "                    'Unites kingdom',\n",
    "                    'uk',\n",
    "                    'united kingdom',\n",
    "                    'Wales',\n",
    "                    'England, United Kingdom'],\n",
    "                                      'United Kingdom')"
   ]
  },
  {
   "cell_type": "code",
   "execution_count": 21,
   "id": "ecb9b4f4",
   "metadata": {},
   "outputs": [],
   "source": [
    "df['country'] = df['country'].replace([\n",
    "                    'Netherlands',\n",
    "                    'The Netherlands'],\n",
    "                                    'Netherlands')"
   ]
  },
  {
   "cell_type": "code",
   "execution_count": 22,
   "id": "d8d0d595",
   "metadata": {},
   "outputs": [],
   "source": [
    "df['country'] = df['country'].replace([\n",
    "                    'Switzerland',\n",
    "                    'SWITZERLAND'],\n",
    "                                    'Switzerland')"
   ]
  },
  {
   "cell_type": "code",
   "execution_count": 23,
   "id": "659bc720",
   "metadata": {},
   "outputs": [],
   "source": [
    "df['country'] = df['country'].replace([\n",
    "                    'New Zealand',\n",
    "                    'NZ',\n",
    "                    'Aotearoa New Zealand',\n",
    "                    'new zealand'],\n",
    "                                    'New Zealand')"
   ]
  },
  {
   "cell_type": "code",
   "execution_count": 24,
   "id": "665a7e46",
   "metadata": {},
   "outputs": [],
   "source": [
    "df['country'] = df['country'].replace(['NIGERIA'], 'Nigeria')"
   ]
  },
  {
   "cell_type": "code",
   "execution_count": 25,
   "id": "e9df9d20",
   "metadata": {
    "scrolled": true
   },
   "outputs": [
    {
     "data": {
      "text/plain": [
       "array(['United States', 'Canada', 'Spain', 'United Kingdom',\n",
       "       'Netherlands', 'Germany', 'Belgium', 'South Africa', 'Sweden',\n",
       "       'France', 'Australia', 'Denmark', 'Trinidad and Tobago', 'Finland',\n",
       "       'Bangladesh', 'Ireland', 'Turkey', 'Japan', 'Hong Kong', 'India',\n",
       "       'Czech Republic', 'Switzerland', 'New Zealand', 'Indonesia',\n",
       "       'Norway', 'Singapore', 'United Arab Emirates', 'Malaysia',\n",
       "       'Argentina', 'Portugal', 'Israel', 'Brazil', 'South Korea',\n",
       "       'Austria', 'Latvia', 'Romania', 'Lithuania', 'Estonia', 'Bermuda',\n",
       "       'Thailand', 'Cyprus', 'Nigeria', 'Poland'], dtype=object)"
      ]
     },
     "execution_count": 25,
     "metadata": {},
     "output_type": "execute_result"
    }
   ],
   "source": [
    "df.country.unique()"
   ]
  },
  {
   "cell_type": "markdown",
   "id": "ae0e2ae4",
   "metadata": {},
   "source": [
    "## Clean up race"
   ]
  },
  {
   "cell_type": "code",
   "execution_count": 26,
   "id": "7dc8a83c",
   "metadata": {
    "scrolled": true
   },
   "outputs": [
    {
     "data": {
      "text/plain": [
       "array(['Hispanic, Latino, or Spanish origin, White',\n",
       "       'Asian or Asian American', 'White',\n",
       "       'Another option not listed here or prefer not to answer',\n",
       "       'Asian or Asian American, White',\n",
       "       'Hispanic, Latino, or Spanish origin', 'Black or African American',\n",
       "       'Black or African American, White',\n",
       "       'Native American or Alaska Native, White',\n",
       "       'Middle Eastern or Northern African, White', nan,\n",
       "       'Black or African American, Hispanic, Latino, or Spanish origin',\n",
       "       'Hispanic, Latino, or Spanish origin, Native American or Alaska Native',\n",
       "       'White, Another option not listed here or prefer not to answer',\n",
       "       'Asian or Asian American, Hispanic, Latino, or Spanish origin',\n",
       "       'Hispanic, Latino, or Spanish origin, Another option not listed here or prefer not to answer',\n",
       "       'Black or African American, Hispanic, Latino, or Spanish origin, Native American or Alaska Native, White',\n",
       "       'Native American or Alaska Native',\n",
       "       'Middle Eastern or Northern African',\n",
       "       'Asian or Asian American, Black or African American, White',\n",
       "       'Black or African American, Hispanic, Latino, or Spanish origin, White',\n",
       "       'Middle Eastern or Northern African, Native American or Alaska Native, White',\n",
       "       'Middle Eastern or Northern African, White, Another option not listed here or prefer not to answer',\n",
       "       'Asian or Asian American, Black or African American',\n",
       "       'Asian or Asian American, Hispanic, Latino, or Spanish origin, White, Another option not listed here or prefer not to answer'],\n",
       "      dtype=object)"
      ]
     },
     "execution_count": 26,
     "metadata": {},
     "output_type": "execute_result"
    }
   ],
   "source": [
    "df.race.unique()"
   ]
  },
  {
   "cell_type": "code",
   "execution_count": 27,
   "id": "518c7f9a",
   "metadata": {},
   "outputs": [],
   "source": [
    "# remove commas to enable split\n",
    "df['race'] = df['race'].str.replace('Hispanic, Latino, or Spanish origin','Hispanic Latino or Spanish origin')"
   ]
  },
  {
   "cell_type": "code",
   "execution_count": 28,
   "id": "cdeda11e",
   "metadata": {},
   "outputs": [],
   "source": [
    "df[\"race\"] = df[\"race\"].str.split(\",\") "
   ]
  },
  {
   "cell_type": "code",
   "execution_count": 29,
   "id": "84b03469",
   "metadata": {},
   "outputs": [],
   "source": [
    "df = df.explode(\"race\") "
   ]
  },
  {
   "cell_type": "code",
   "execution_count": 30,
   "id": "b87d6e1a",
   "metadata": {},
   "outputs": [],
   "source": [
    "# fix issue with leading and trailing white space again\n",
    "df = df.replace(r\"^ +| +$\", r\"\", regex=True) "
   ]
  },
  {
   "cell_type": "code",
   "execution_count": 31,
   "id": "6619c554",
   "metadata": {
    "scrolled": true
   },
   "outputs": [
    {
     "data": {
      "text/plain": [
       "array(['Hispanic Latino or Spanish origin', 'White',\n",
       "       'Asian or Asian American',\n",
       "       'Another option not listed here or prefer not to answer',\n",
       "       'Black or African American', 'Native American or Alaska Native',\n",
       "       'Middle Eastern or Northern African', nan], dtype=object)"
      ]
     },
     "execution_count": 31,
     "metadata": {},
     "output_type": "execute_result"
    }
   ],
   "source": [
    "df.race.unique()"
   ]
  },
  {
   "cell_type": "code",
   "execution_count": 32,
   "id": "b7ada709",
   "metadata": {},
   "outputs": [],
   "source": [
    "# add multiracial column\n",
    "multiracial = df[df.duplicated('id', keep=False) == True]\n",
    "multiracial_id = (multiracial.id.unique().tolist())\n",
    "df[\"multiracial\"] = np.where(df[\"id\"].isin(multiracial_id), \"Yes\", \"No\")"
   ]
  },
  {
   "cell_type": "markdown",
   "id": "fcc1c9b5",
   "metadata": {},
   "source": [
    "## Clean up states"
   ]
  },
  {
   "cell_type": "code",
   "execution_count": 33,
   "id": "2bc61a4a",
   "metadata": {
    "scrolled": true
   },
   "outputs": [
    {
     "data": {
      "text/plain": [
       "array(['Florida', 'Ohio', 'District of Columbia', 'Massachusetts',\n",
       "       'Illinois', 'Minnesota', 'New York', 'Maryland', 'Oregon',\n",
       "       'North Carolina', 'Colorado', nan, 'Pennsylvania', 'New Jersey',\n",
       "       'California', 'Virginia', 'South Carolina', 'North Dakota',\n",
       "       'Washington', 'Kansas', 'Indiana', 'Texas', 'Missouri', 'Delaware',\n",
       "       'Georgia', 'Michigan', 'Kentucky', 'Rhode Island', 'South Dakota',\n",
       "       'New Hampshire', 'Louisiana', 'New Mexico', 'Connecticut',\n",
       "       'Oklahoma', 'Arizona', 'Vermont', 'Utah', 'Idaho', 'Tennessee',\n",
       "       'Nebraska', 'West Virginia', 'Wisconsin', 'Mississippi', 'Alabama',\n",
       "       'California, Colorado', 'Maine', 'Alabama, District of Columbia',\n",
       "       'Arkansas', 'Nevada', 'Iowa', 'Alaska', 'Hawaii',\n",
       "       'New Jersey, New York', 'Montana', 'Wyoming',\n",
       "       'Georgia, Massachusetts', 'California, Texas',\n",
       "       'Indiana, Massachusetts', 'Mississippi, Missouri',\n",
       "       'California, Illinois, Massachusetts, North Carolina, South Carolina, Virginia'],\n",
       "      dtype=object)"
      ]
     },
     "execution_count": 33,
     "metadata": {},
     "output_type": "execute_result"
    }
   ],
   "source": [
    "df.state.unique()"
   ]
  },
  {
   "cell_type": "code",
   "execution_count": 34,
   "id": "c3a1a0c5",
   "metadata": {},
   "outputs": [],
   "source": [
    "df[\"state\"] = df[\"state\"].str.split(\",\") "
   ]
  },
  {
   "cell_type": "code",
   "execution_count": 35,
   "id": "777b0648",
   "metadata": {},
   "outputs": [],
   "source": [
    "df = df.explode(\"state\") "
   ]
  },
  {
   "cell_type": "code",
   "execution_count": 36,
   "id": "86a132a6",
   "metadata": {},
   "outputs": [
    {
     "data": {
      "text/plain": [
       "array(['Florida', 'Ohio', 'District of Columbia', 'Massachusetts',\n",
       "       'Illinois', 'Minnesota', 'New York', 'Maryland', 'Oregon',\n",
       "       'North Carolina', 'Colorado', nan, 'Pennsylvania', 'New Jersey',\n",
       "       'California', 'Virginia', 'South Carolina', 'North Dakota',\n",
       "       'Washington', 'Kansas', 'Indiana', 'Texas', 'Missouri', 'Delaware',\n",
       "       'Georgia', 'Michigan', 'Kentucky', 'Rhode Island', 'South Dakota',\n",
       "       'New Hampshire', 'Louisiana', 'New Mexico', 'Connecticut',\n",
       "       'Oklahoma', 'Arizona', 'Vermont', 'Utah', 'Idaho', 'Tennessee',\n",
       "       'Nebraska', 'West Virginia', 'Wisconsin', 'Mississippi', 'Alabama',\n",
       "       ' Colorado', 'Maine', ' District of Columbia', 'Arkansas',\n",
       "       'Nevada', 'Iowa', 'Alaska', 'Hawaii', ' New York', 'Montana',\n",
       "       'Wyoming', ' Massachusetts', ' Texas', ' Missouri', ' Illinois',\n",
       "       ' North Carolina', ' South Carolina', ' Virginia'], dtype=object)"
      ]
     },
     "execution_count": 36,
     "metadata": {},
     "output_type": "execute_result"
    }
   ],
   "source": [
    "df.state.unique()"
   ]
  },
  {
   "cell_type": "code",
   "execution_count": 37,
   "id": "20080c91",
   "metadata": {},
   "outputs": [],
   "source": [
    "df = df.replace(r\"^ +| +$\", r\"\", regex=True) # fix issue with leading and trailing white space"
   ]
  },
  {
   "cell_type": "code",
   "execution_count": 38,
   "id": "b01cb8a9",
   "metadata": {},
   "outputs": [
    {
     "data": {
      "text/plain": [
       "array(['Florida', 'Ohio', 'District of Columbia', 'Massachusetts',\n",
       "       'Illinois', 'Minnesota', 'New York', 'Maryland', 'Oregon',\n",
       "       'North Carolina', 'Colorado', nan, 'Pennsylvania', 'New Jersey',\n",
       "       'California', 'Virginia', 'South Carolina', 'North Dakota',\n",
       "       'Washington', 'Kansas', 'Indiana', 'Texas', 'Missouri', 'Delaware',\n",
       "       'Georgia', 'Michigan', 'Kentucky', 'Rhode Island', 'South Dakota',\n",
       "       'New Hampshire', 'Louisiana', 'New Mexico', 'Connecticut',\n",
       "       'Oklahoma', 'Arizona', 'Vermont', 'Utah', 'Idaho', 'Tennessee',\n",
       "       'Nebraska', 'West Virginia', 'Wisconsin', 'Mississippi', 'Alabama',\n",
       "       'Maine', 'Arkansas', 'Nevada', 'Iowa', 'Alaska', 'Hawaii',\n",
       "       'Montana', 'Wyoming'], dtype=object)"
      ]
     },
     "execution_count": 38,
     "metadata": {},
     "output_type": "execute_result"
    }
   ],
   "source": [
    "df.state.unique()"
   ]
  },
  {
   "cell_type": "code",
   "execution_count": 39,
   "id": "8b2391e8",
   "metadata": {},
   "outputs": [],
   "source": [
    "# add multistate column\n",
    "multistate = df[df[\"multiracial\"] == 'No']\n",
    "multistate = (multistate[multistate.duplicated('id', keep=False) == True])\n",
    "multistate_id = (multistate.id.unique().tolist())\n",
    "df[\"multistate\"] = np.where(df[\"id\"].isin(multistate_id), \"Yes\", \"No\")"
   ]
  },
  {
   "cell_type": "markdown",
   "id": "77456607",
   "metadata": {},
   "source": [
    "## Clean up add_compensation"
   ]
  },
  {
   "cell_type": "code",
   "execution_count": 40,
   "id": "41387462",
   "metadata": {},
   "outputs": [],
   "source": [
    "df['add_compensation'] = df['add_compensation'].fillna(0) # replace NaN with zeros"
   ]
  },
  {
   "cell_type": "markdown",
   "id": "ace33d90",
   "metadata": {},
   "source": [
    "## Clean up currencies"
   ]
  },
  {
   "cell_type": "code",
   "execution_count": 41,
   "id": "f1454c9c",
   "metadata": {},
   "outputs": [
    {
     "data": {
      "text/plain": [
       "array(['USD', 'CAD', 'EUR', 'GBP', 'ZAR', 'SEK', 'AUD/NZD', 'Other',\n",
       "       'CHF', 'JPY'], dtype=object)"
      ]
     },
     "execution_count": 41,
     "metadata": {},
     "output_type": "execute_result"
    }
   ],
   "source": [
    "df.currency.unique()"
   ]
  },
  {
   "cell_type": "code",
   "execution_count": 42,
   "id": "a8cc5ada",
   "metadata": {},
   "outputs": [
    {
     "data": {
      "text/plain": [
       "array([nan, 'Dkk', 'TTD', 'GBP', 'Bdt', 'Additonal = Bonus plus stock',\n",
       "       'Overtime (about 5 hours a week) and bonus', 'TRY', 'Canadian',\n",
       "       'INR', 'Czk', 'IDR', 'NOK', 'SGD', 'AUD', 'MYR', 'ARS',\n",
       "       'Israeli Shekels', 'BRL', 'KRW', 'None', 'Korean Won', 'NZD',\n",
       "       '47000', 'THB', 'NGN', 'PLN'], dtype=object)"
      ]
     },
     "execution_count": 42,
     "metadata": {},
     "output_type": "execute_result"
    }
   ],
   "source": [
    "df.other_currency.unique()"
   ]
  },
  {
   "cell_type": "code",
   "execution_count": 43,
   "id": "b3c2008a",
   "metadata": {
    "scrolled": true
   },
   "outputs": [
    {
     "data": {
      "text/html": [
       "<div>\n",
       "<style scoped>\n",
       "    .dataframe tbody tr th:only-of-type {\n",
       "        vertical-align: middle;\n",
       "    }\n",
       "\n",
       "    .dataframe tbody tr th {\n",
       "        vertical-align: top;\n",
       "    }\n",
       "\n",
       "    .dataframe thead th {\n",
       "        text-align: right;\n",
       "    }\n",
       "</style>\n",
       "<table border=\"1\" class=\"dataframe\">\n",
       "  <thead>\n",
       "    <tr style=\"text-align: right;\">\n",
       "      <th></th>\n",
       "      <th>id</th>\n",
       "      <th>timestamp</th>\n",
       "      <th>age_range</th>\n",
       "      <th>industry</th>\n",
       "      <th>job</th>\n",
       "      <th>job_context</th>\n",
       "      <th>annual_salary</th>\n",
       "      <th>add_compensation</th>\n",
       "      <th>currency</th>\n",
       "      <th>other_currency</th>\n",
       "      <th>...</th>\n",
       "      <th>country</th>\n",
       "      <th>state</th>\n",
       "      <th>city</th>\n",
       "      <th>all_experience</th>\n",
       "      <th>field_experience</th>\n",
       "      <th>education-level</th>\n",
       "      <th>gender</th>\n",
       "      <th>race</th>\n",
       "      <th>multiracial</th>\n",
       "      <th>multistate</th>\n",
       "    </tr>\n",
       "  </thead>\n",
       "  <tbody>\n",
       "    <tr>\n",
       "      <th>541</th>\n",
       "      <td>542</td>\n",
       "      <td>2021-04-27 13:08:37</td>\n",
       "      <td>25-34</td>\n",
       "      <td>Education (Higher Education)</td>\n",
       "      <td>Senior Research Fellow/Assistant Professor</td>\n",
       "      <td>NaN</td>\n",
       "      <td>41000</td>\n",
       "      <td>0.0</td>\n",
       "      <td>Other</td>\n",
       "      <td>GBP</td>\n",
       "      <td>...</td>\n",
       "      <td>United Kingdom</td>\n",
       "      <td>NaN</td>\n",
       "      <td>Glasgow</td>\n",
       "      <td>5-7 years</td>\n",
       "      <td>5-7 years</td>\n",
       "      <td>PhD</td>\n",
       "      <td>Woman</td>\n",
       "      <td>White</td>\n",
       "      <td>No</td>\n",
       "      <td>No</td>\n",
       "    </tr>\n",
       "  </tbody>\n",
       "</table>\n",
       "<p>1 rows × 21 columns</p>\n",
       "</div>"
      ],
      "text/plain": [
       "      id           timestamp age_range                      industry  \\\n",
       "541  542 2021-04-27 13:08:37     25-34  Education (Higher Education)   \n",
       "\n",
       "                                            job job_context  annual_salary  \\\n",
       "541  Senior Research Fellow/Assistant Professor         NaN          41000   \n",
       "\n",
       "     add_compensation currency other_currency  ...         country state  \\\n",
       "541               0.0    Other            GBP  ...  United Kingdom   NaN   \n",
       "\n",
       "        city all_experience field_experience education-level gender   race  \\\n",
       "541  Glasgow      5-7 years        5-7 years             PhD  Woman  White   \n",
       "\n",
       "    multiracial multistate  \n",
       "541          No         No  \n",
       "\n",
       "[1 rows x 21 columns]"
      ]
     },
     "execution_count": 43,
     "metadata": {},
     "output_type": "execute_result"
    }
   ],
   "source": [
    "# inspect anomalies \n",
    "df.loc[df['other_currency'] == 'GBP']"
   ]
  },
  {
   "cell_type": "code",
   "execution_count": 44,
   "id": "2821d66a",
   "metadata": {},
   "outputs": [],
   "source": [
    "# recode as currency = GBP and other_currency = nan\n",
    "\n",
    "df['other_currency'] = df['other_currency'].replace(['GBP'], 'NaN')\n",
    "df.at[541,'currency']='GBP'"
   ]
  },
  {
   "cell_type": "code",
   "execution_count": 45,
   "id": "b8a2b3bd",
   "metadata": {},
   "outputs": [
    {
     "data": {
      "text/html": [
       "<div>\n",
       "<style scoped>\n",
       "    .dataframe tbody tr th:only-of-type {\n",
       "        vertical-align: middle;\n",
       "    }\n",
       "\n",
       "    .dataframe tbody tr th {\n",
       "        vertical-align: top;\n",
       "    }\n",
       "\n",
       "    .dataframe thead th {\n",
       "        text-align: right;\n",
       "    }\n",
       "</style>\n",
       "<table border=\"1\" class=\"dataframe\">\n",
       "  <thead>\n",
       "    <tr style=\"text-align: right;\">\n",
       "      <th></th>\n",
       "      <th>id</th>\n",
       "      <th>timestamp</th>\n",
       "      <th>age_range</th>\n",
       "      <th>industry</th>\n",
       "      <th>job</th>\n",
       "      <th>job_context</th>\n",
       "      <th>annual_salary</th>\n",
       "      <th>add_compensation</th>\n",
       "      <th>currency</th>\n",
       "      <th>other_currency</th>\n",
       "      <th>...</th>\n",
       "      <th>country</th>\n",
       "      <th>state</th>\n",
       "      <th>city</th>\n",
       "      <th>all_experience</th>\n",
       "      <th>field_experience</th>\n",
       "      <th>education-level</th>\n",
       "      <th>gender</th>\n",
       "      <th>race</th>\n",
       "      <th>multiracial</th>\n",
       "      <th>multistate</th>\n",
       "    </tr>\n",
       "  </thead>\n",
       "  <tbody>\n",
       "    <tr>\n",
       "      <th>541</th>\n",
       "      <td>542</td>\n",
       "      <td>2021-04-27 13:08:37</td>\n",
       "      <td>25-34</td>\n",
       "      <td>Education (Higher Education)</td>\n",
       "      <td>Senior Research Fellow/Assistant Professor</td>\n",
       "      <td>NaN</td>\n",
       "      <td>41000</td>\n",
       "      <td>0.0</td>\n",
       "      <td>GBP</td>\n",
       "      <td>NaN</td>\n",
       "      <td>...</td>\n",
       "      <td>United Kingdom</td>\n",
       "      <td>NaN</td>\n",
       "      <td>Glasgow</td>\n",
       "      <td>5-7 years</td>\n",
       "      <td>5-7 years</td>\n",
       "      <td>PhD</td>\n",
       "      <td>Woman</td>\n",
       "      <td>White</td>\n",
       "      <td>No</td>\n",
       "      <td>No</td>\n",
       "    </tr>\n",
       "  </tbody>\n",
       "</table>\n",
       "<p>1 rows × 21 columns</p>\n",
       "</div>"
      ],
      "text/plain": [
       "      id           timestamp age_range                      industry  \\\n",
       "541  542 2021-04-27 13:08:37     25-34  Education (Higher Education)   \n",
       "\n",
       "                                            job job_context  annual_salary  \\\n",
       "541  Senior Research Fellow/Assistant Professor         NaN          41000   \n",
       "\n",
       "     add_compensation currency other_currency  ...         country state  \\\n",
       "541               0.0      GBP            NaN  ...  United Kingdom   NaN   \n",
       "\n",
       "        city all_experience field_experience education-level gender   race  \\\n",
       "541  Glasgow      5-7 years        5-7 years             PhD  Woman  White   \n",
       "\n",
       "    multiracial multistate  \n",
       "541          No         No  \n",
       "\n",
       "[1 rows x 21 columns]"
      ]
     },
     "execution_count": 45,
     "metadata": {},
     "output_type": "execute_result"
    }
   ],
   "source": [
    "df.loc[df['id'] == 542]"
   ]
  },
  {
   "cell_type": "code",
   "execution_count": 46,
   "id": "2cebb452",
   "metadata": {
    "scrolled": true
   },
   "outputs": [
    {
     "data": {
      "text/html": [
       "<div>\n",
       "<style scoped>\n",
       "    .dataframe tbody tr th:only-of-type {\n",
       "        vertical-align: middle;\n",
       "    }\n",
       "\n",
       "    .dataframe tbody tr th {\n",
       "        vertical-align: top;\n",
       "    }\n",
       "\n",
       "    .dataframe thead th {\n",
       "        text-align: right;\n",
       "    }\n",
       "</style>\n",
       "<table border=\"1\" class=\"dataframe\">\n",
       "  <thead>\n",
       "    <tr style=\"text-align: right;\">\n",
       "      <th></th>\n",
       "      <th>id</th>\n",
       "      <th>timestamp</th>\n",
       "      <th>age_range</th>\n",
       "      <th>industry</th>\n",
       "      <th>job</th>\n",
       "      <th>job_context</th>\n",
       "      <th>annual_salary</th>\n",
       "      <th>add_compensation</th>\n",
       "      <th>currency</th>\n",
       "      <th>other_currency</th>\n",
       "      <th>...</th>\n",
       "      <th>country</th>\n",
       "      <th>state</th>\n",
       "      <th>city</th>\n",
       "      <th>all_experience</th>\n",
       "      <th>field_experience</th>\n",
       "      <th>education-level</th>\n",
       "      <th>gender</th>\n",
       "      <th>race</th>\n",
       "      <th>multiracial</th>\n",
       "      <th>multistate</th>\n",
       "    </tr>\n",
       "  </thead>\n",
       "  <tbody>\n",
       "    <tr>\n",
       "      <th>739</th>\n",
       "      <td>740</td>\n",
       "      <td>2021-04-27 14:35:26</td>\n",
       "      <td>45-54</td>\n",
       "      <td>Computing or Tech</td>\n",
       "      <td>Content specialist</td>\n",
       "      <td>NaN</td>\n",
       "      <td>62000</td>\n",
       "      <td>17000.0</td>\n",
       "      <td>EUR</td>\n",
       "      <td>Additonal = Bonus plus stock</td>\n",
       "      <td>...</td>\n",
       "      <td>Ireland</td>\n",
       "      <td>NaN</td>\n",
       "      <td>Small country, prefer not to say!</td>\n",
       "      <td>31 - 40 years</td>\n",
       "      <td>8 - 10 years</td>\n",
       "      <td>College degree</td>\n",
       "      <td>Woman</td>\n",
       "      <td>White</td>\n",
       "      <td>No</td>\n",
       "      <td>No</td>\n",
       "    </tr>\n",
       "  </tbody>\n",
       "</table>\n",
       "<p>1 rows × 21 columns</p>\n",
       "</div>"
      ],
      "text/plain": [
       "      id           timestamp age_range           industry                 job  \\\n",
       "739  740 2021-04-27 14:35:26     45-54  Computing or Tech  Content specialist   \n",
       "\n",
       "    job_context  annual_salary  add_compensation currency  \\\n",
       "739         NaN          62000           17000.0      EUR   \n",
       "\n",
       "                   other_currency  ...  country state  \\\n",
       "739  Additonal = Bonus plus stock  ...  Ireland   NaN   \n",
       "\n",
       "                                  city all_experience field_experience  \\\n",
       "739  Small country, prefer not to say!  31 - 40 years     8 - 10 years   \n",
       "\n",
       "    education-level gender   race multiracial multistate  \n",
       "739  College degree  Woman  White          No         No  \n",
       "\n",
       "[1 rows x 21 columns]"
      ]
     },
     "execution_count": 46,
     "metadata": {},
     "output_type": "execute_result"
    }
   ],
   "source": [
    "# inspect anomalies \n",
    "df.loc[df['other_currency'] == 'Additonal = Bonus plus stock']"
   ]
  },
  {
   "cell_type": "code",
   "execution_count": 47,
   "id": "bd7316e1",
   "metadata": {},
   "outputs": [],
   "source": [
    "# recode as other_currency = NaN and income_context = 'Additonal = Bonus plus stock'\n",
    "\n",
    "df['other_currency'] = df['other_currency'].replace(['Additonal = Bonus plus stock'], 'NaN')\n",
    "df.at[739,'income_context']='Additonal = Bonus plus stock'"
   ]
  },
  {
   "cell_type": "code",
   "execution_count": 48,
   "id": "a1aff43d",
   "metadata": {},
   "outputs": [
    {
     "data": {
      "text/html": [
       "<div>\n",
       "<style scoped>\n",
       "    .dataframe tbody tr th:only-of-type {\n",
       "        vertical-align: middle;\n",
       "    }\n",
       "\n",
       "    .dataframe tbody tr th {\n",
       "        vertical-align: top;\n",
       "    }\n",
       "\n",
       "    .dataframe thead th {\n",
       "        text-align: right;\n",
       "    }\n",
       "</style>\n",
       "<table border=\"1\" class=\"dataframe\">\n",
       "  <thead>\n",
       "    <tr style=\"text-align: right;\">\n",
       "      <th></th>\n",
       "      <th>id</th>\n",
       "      <th>timestamp</th>\n",
       "      <th>age_range</th>\n",
       "      <th>industry</th>\n",
       "      <th>job</th>\n",
       "      <th>job_context</th>\n",
       "      <th>annual_salary</th>\n",
       "      <th>add_compensation</th>\n",
       "      <th>currency</th>\n",
       "      <th>other_currency</th>\n",
       "      <th>...</th>\n",
       "      <th>country</th>\n",
       "      <th>state</th>\n",
       "      <th>city</th>\n",
       "      <th>all_experience</th>\n",
       "      <th>field_experience</th>\n",
       "      <th>education-level</th>\n",
       "      <th>gender</th>\n",
       "      <th>race</th>\n",
       "      <th>multiracial</th>\n",
       "      <th>multistate</th>\n",
       "    </tr>\n",
       "  </thead>\n",
       "  <tbody>\n",
       "    <tr>\n",
       "      <th>739</th>\n",
       "      <td>740</td>\n",
       "      <td>2021-04-27 14:35:26</td>\n",
       "      <td>45-54</td>\n",
       "      <td>Computing or Tech</td>\n",
       "      <td>Content specialist</td>\n",
       "      <td>NaN</td>\n",
       "      <td>62000</td>\n",
       "      <td>17000.0</td>\n",
       "      <td>EUR</td>\n",
       "      <td>NaN</td>\n",
       "      <td>...</td>\n",
       "      <td>Ireland</td>\n",
       "      <td>NaN</td>\n",
       "      <td>Small country, prefer not to say!</td>\n",
       "      <td>31 - 40 years</td>\n",
       "      <td>8 - 10 years</td>\n",
       "      <td>College degree</td>\n",
       "      <td>Woman</td>\n",
       "      <td>White</td>\n",
       "      <td>No</td>\n",
       "      <td>No</td>\n",
       "    </tr>\n",
       "  </tbody>\n",
       "</table>\n",
       "<p>1 rows × 21 columns</p>\n",
       "</div>"
      ],
      "text/plain": [
       "      id           timestamp age_range           industry                 job  \\\n",
       "739  740 2021-04-27 14:35:26     45-54  Computing or Tech  Content specialist   \n",
       "\n",
       "    job_context  annual_salary  add_compensation currency other_currency  ...  \\\n",
       "739         NaN          62000           17000.0      EUR            NaN  ...   \n",
       "\n",
       "     country state                               city all_experience  \\\n",
       "739  Ireland   NaN  Small country, prefer not to say!  31 - 40 years   \n",
       "\n",
       "    field_experience education-level gender   race multiracial multistate  \n",
       "739     8 - 10 years  College degree  Woman  White          No         No  \n",
       "\n",
       "[1 rows x 21 columns]"
      ]
     },
     "execution_count": 48,
     "metadata": {},
     "output_type": "execute_result"
    }
   ],
   "source": [
    "df.loc[df['id'] == 740]"
   ]
  },
  {
   "cell_type": "code",
   "execution_count": 49,
   "id": "d0995ae3",
   "metadata": {},
   "outputs": [
    {
     "data": {
      "text/html": [
       "<div>\n",
       "<style scoped>\n",
       "    .dataframe tbody tr th:only-of-type {\n",
       "        vertical-align: middle;\n",
       "    }\n",
       "\n",
       "    .dataframe tbody tr th {\n",
       "        vertical-align: top;\n",
       "    }\n",
       "\n",
       "    .dataframe thead th {\n",
       "        text-align: right;\n",
       "    }\n",
       "</style>\n",
       "<table border=\"1\" class=\"dataframe\">\n",
       "  <thead>\n",
       "    <tr style=\"text-align: right;\">\n",
       "      <th></th>\n",
       "      <th>id</th>\n",
       "      <th>timestamp</th>\n",
       "      <th>age_range</th>\n",
       "      <th>industry</th>\n",
       "      <th>job</th>\n",
       "      <th>job_context</th>\n",
       "      <th>annual_salary</th>\n",
       "      <th>add_compensation</th>\n",
       "      <th>currency</th>\n",
       "      <th>other_currency</th>\n",
       "      <th>...</th>\n",
       "      <th>country</th>\n",
       "      <th>state</th>\n",
       "      <th>city</th>\n",
       "      <th>all_experience</th>\n",
       "      <th>field_experience</th>\n",
       "      <th>education-level</th>\n",
       "      <th>gender</th>\n",
       "      <th>race</th>\n",
       "      <th>multiracial</th>\n",
       "      <th>multistate</th>\n",
       "    </tr>\n",
       "  </thead>\n",
       "  <tbody>\n",
       "    <tr>\n",
       "      <th>803</th>\n",
       "      <td>804</td>\n",
       "      <td>2021-04-27 15:23:13</td>\n",
       "      <td>25-34</td>\n",
       "      <td>Computing or Tech</td>\n",
       "      <td>Executive Assiatant II</td>\n",
       "      <td>Grade 6</td>\n",
       "      <td>86000</td>\n",
       "      <td>20000.0</td>\n",
       "      <td>USD</td>\n",
       "      <td>Overtime (about 5 hours a week) and bonus</td>\n",
       "      <td>...</td>\n",
       "      <td>United States</td>\n",
       "      <td>Massachusetts</td>\n",
       "      <td>HQ us in Cambridge, Ma but moving to the subur...</td>\n",
       "      <td>5-7 years</td>\n",
       "      <td>2 - 4 years</td>\n",
       "      <td>College degree</td>\n",
       "      <td>Woman</td>\n",
       "      <td>White</td>\n",
       "      <td>No</td>\n",
       "      <td>No</td>\n",
       "    </tr>\n",
       "  </tbody>\n",
       "</table>\n",
       "<p>1 rows × 21 columns</p>\n",
       "</div>"
      ],
      "text/plain": [
       "      id           timestamp age_range           industry  \\\n",
       "803  804 2021-04-27 15:23:13     25-34  Computing or Tech   \n",
       "\n",
       "                        job job_context  annual_salary  add_compensation  \\\n",
       "803  Executive Assiatant II     Grade 6          86000           20000.0   \n",
       "\n",
       "    currency                             other_currency  ...        country  \\\n",
       "803      USD  Overtime (about 5 hours a week) and bonus  ...  United States   \n",
       "\n",
       "             state                                               city  \\\n",
       "803  Massachusetts  HQ us in Cambridge, Ma but moving to the subur...   \n",
       "\n",
       "    all_experience field_experience education-level gender   race multiracial  \\\n",
       "803      5-7 years      2 - 4 years  College degree  Woman  White          No   \n",
       "\n",
       "    multistate  \n",
       "803         No  \n",
       "\n",
       "[1 rows x 21 columns]"
      ]
     },
     "execution_count": 49,
     "metadata": {},
     "output_type": "execute_result"
    }
   ],
   "source": [
    "# inspect anomalies \n",
    "df.loc[df['other_currency'] == 'Overtime (about 5 hours a week) and bonus']"
   ]
  },
  {
   "cell_type": "code",
   "execution_count": 50,
   "id": "3dfb2640",
   "metadata": {},
   "outputs": [],
   "source": [
    "# recode as other_currency = NaN and income_context = 'Overtime (about 5 hours a week) and bonus'\n",
    "\n",
    "df['other_currency'] = df['other_currency'].replace(['Overtime (about 5 hours a week) and bonus'], 'NaN')\n",
    "df.at[803,'income_context']='Overtime (about 5 hours a week) and bonus'"
   ]
  },
  {
   "cell_type": "code",
   "execution_count": 51,
   "id": "2b6827b6",
   "metadata": {},
   "outputs": [
    {
     "data": {
      "text/html": [
       "<div>\n",
       "<style scoped>\n",
       "    .dataframe tbody tr th:only-of-type {\n",
       "        vertical-align: middle;\n",
       "    }\n",
       "\n",
       "    .dataframe tbody tr th {\n",
       "        vertical-align: top;\n",
       "    }\n",
       "\n",
       "    .dataframe thead th {\n",
       "        text-align: right;\n",
       "    }\n",
       "</style>\n",
       "<table border=\"1\" class=\"dataframe\">\n",
       "  <thead>\n",
       "    <tr style=\"text-align: right;\">\n",
       "      <th></th>\n",
       "      <th>id</th>\n",
       "      <th>timestamp</th>\n",
       "      <th>age_range</th>\n",
       "      <th>industry</th>\n",
       "      <th>job</th>\n",
       "      <th>job_context</th>\n",
       "      <th>annual_salary</th>\n",
       "      <th>add_compensation</th>\n",
       "      <th>currency</th>\n",
       "      <th>other_currency</th>\n",
       "      <th>...</th>\n",
       "      <th>country</th>\n",
       "      <th>state</th>\n",
       "      <th>city</th>\n",
       "      <th>all_experience</th>\n",
       "      <th>field_experience</th>\n",
       "      <th>education-level</th>\n",
       "      <th>gender</th>\n",
       "      <th>race</th>\n",
       "      <th>multiracial</th>\n",
       "      <th>multistate</th>\n",
       "    </tr>\n",
       "  </thead>\n",
       "  <tbody>\n",
       "    <tr>\n",
       "      <th>803</th>\n",
       "      <td>804</td>\n",
       "      <td>2021-04-27 15:23:13</td>\n",
       "      <td>25-34</td>\n",
       "      <td>Computing or Tech</td>\n",
       "      <td>Executive Assiatant II</td>\n",
       "      <td>Grade 6</td>\n",
       "      <td>86000</td>\n",
       "      <td>20000.0</td>\n",
       "      <td>USD</td>\n",
       "      <td>NaN</td>\n",
       "      <td>...</td>\n",
       "      <td>United States</td>\n",
       "      <td>Massachusetts</td>\n",
       "      <td>HQ us in Cambridge, Ma but moving to the subur...</td>\n",
       "      <td>5-7 years</td>\n",
       "      <td>2 - 4 years</td>\n",
       "      <td>College degree</td>\n",
       "      <td>Woman</td>\n",
       "      <td>White</td>\n",
       "      <td>No</td>\n",
       "      <td>No</td>\n",
       "    </tr>\n",
       "  </tbody>\n",
       "</table>\n",
       "<p>1 rows × 21 columns</p>\n",
       "</div>"
      ],
      "text/plain": [
       "      id           timestamp age_range           industry  \\\n",
       "803  804 2021-04-27 15:23:13     25-34  Computing or Tech   \n",
       "\n",
       "                        job job_context  annual_salary  add_compensation  \\\n",
       "803  Executive Assiatant II     Grade 6          86000           20000.0   \n",
       "\n",
       "    currency other_currency  ...        country          state  \\\n",
       "803      USD            NaN  ...  United States  Massachusetts   \n",
       "\n",
       "                                                  city all_experience  \\\n",
       "803  HQ us in Cambridge, Ma but moving to the subur...      5-7 years   \n",
       "\n",
       "    field_experience education-level gender   race multiracial multistate  \n",
       "803      2 - 4 years  College degree  Woman  White          No         No  \n",
       "\n",
       "[1 rows x 21 columns]"
      ]
     },
     "execution_count": 51,
     "metadata": {},
     "output_type": "execute_result"
    }
   ],
   "source": [
    "df.loc[df['id'] == 804]"
   ]
  },
  {
   "cell_type": "code",
   "execution_count": 52,
   "id": "35bb48a8",
   "metadata": {},
   "outputs": [
    {
     "data": {
      "text/html": [
       "<div>\n",
       "<style scoped>\n",
       "    .dataframe tbody tr th:only-of-type {\n",
       "        vertical-align: middle;\n",
       "    }\n",
       "\n",
       "    .dataframe tbody tr th {\n",
       "        vertical-align: top;\n",
       "    }\n",
       "\n",
       "    .dataframe thead th {\n",
       "        text-align: right;\n",
       "    }\n",
       "</style>\n",
       "<table border=\"1\" class=\"dataframe\">\n",
       "  <thead>\n",
       "    <tr style=\"text-align: right;\">\n",
       "      <th></th>\n",
       "      <th>id</th>\n",
       "      <th>timestamp</th>\n",
       "      <th>age_range</th>\n",
       "      <th>industry</th>\n",
       "      <th>job</th>\n",
       "      <th>job_context</th>\n",
       "      <th>annual_salary</th>\n",
       "      <th>add_compensation</th>\n",
       "      <th>currency</th>\n",
       "      <th>other_currency</th>\n",
       "      <th>...</th>\n",
       "      <th>country</th>\n",
       "      <th>state</th>\n",
       "      <th>city</th>\n",
       "      <th>all_experience</th>\n",
       "      <th>field_experience</th>\n",
       "      <th>education-level</th>\n",
       "      <th>gender</th>\n",
       "      <th>race</th>\n",
       "      <th>multiracial</th>\n",
       "      <th>multistate</th>\n",
       "    </tr>\n",
       "  </thead>\n",
       "  <tbody>\n",
       "    <tr>\n",
       "      <th>2707</th>\n",
       "      <td>2708</td>\n",
       "      <td>2021-07-06 18:49:41</td>\n",
       "      <td>25-34</td>\n",
       "      <td>Nonprofits</td>\n",
       "      <td>Districtwide Program Coordinator</td>\n",
       "      <td>NaN</td>\n",
       "      <td>47000</td>\n",
       "      <td>0.0</td>\n",
       "      <td>USD</td>\n",
       "      <td>47000</td>\n",
       "      <td>...</td>\n",
       "      <td>United States</td>\n",
       "      <td>Michigan</td>\n",
       "      <td>Decatur</td>\n",
       "      <td>8 - 10 years</td>\n",
       "      <td>8 - 10 years</td>\n",
       "      <td>Master's degree</td>\n",
       "      <td>Woman</td>\n",
       "      <td>White</td>\n",
       "      <td>No</td>\n",
       "      <td>No</td>\n",
       "    </tr>\n",
       "  </tbody>\n",
       "</table>\n",
       "<p>1 rows × 21 columns</p>\n",
       "</div>"
      ],
      "text/plain": [
       "        id           timestamp age_range    industry  \\\n",
       "2707  2708 2021-07-06 18:49:41     25-34  Nonprofits   \n",
       "\n",
       "                                   job job_context  annual_salary  \\\n",
       "2707  Districtwide Program Coordinator         NaN          47000   \n",
       "\n",
       "      add_compensation currency other_currency  ...        country     state  \\\n",
       "2707               0.0      USD          47000  ...  United States  Michigan   \n",
       "\n",
       "         city all_experience field_experience  education-level gender   race  \\\n",
       "2707  Decatur   8 - 10 years     8 - 10 years  Master's degree  Woman  White   \n",
       "\n",
       "     multiracial multistate  \n",
       "2707          No         No  \n",
       "\n",
       "[1 rows x 21 columns]"
      ]
     },
     "execution_count": 52,
     "metadata": {},
     "output_type": "execute_result"
    }
   ],
   "source": [
    "# inspect anomalies \n",
    "df.loc[df['other_currency'] == '47000']"
   ]
  },
  {
   "cell_type": "code",
   "execution_count": 53,
   "id": "228e1257",
   "metadata": {},
   "outputs": [
    {
     "data": {
      "text/html": [
       "<div>\n",
       "<style scoped>\n",
       "    .dataframe tbody tr th:only-of-type {\n",
       "        vertical-align: middle;\n",
       "    }\n",
       "\n",
       "    .dataframe tbody tr th {\n",
       "        vertical-align: top;\n",
       "    }\n",
       "\n",
       "    .dataframe thead th {\n",
       "        text-align: right;\n",
       "    }\n",
       "</style>\n",
       "<table border=\"1\" class=\"dataframe\">\n",
       "  <thead>\n",
       "    <tr style=\"text-align: right;\">\n",
       "      <th></th>\n",
       "      <th>id</th>\n",
       "      <th>timestamp</th>\n",
       "      <th>age_range</th>\n",
       "      <th>industry</th>\n",
       "      <th>job</th>\n",
       "      <th>job_context</th>\n",
       "      <th>annual_salary</th>\n",
       "      <th>add_compensation</th>\n",
       "      <th>currency</th>\n",
       "      <th>other_currency</th>\n",
       "      <th>...</th>\n",
       "      <th>country</th>\n",
       "      <th>state</th>\n",
       "      <th>city</th>\n",
       "      <th>all_experience</th>\n",
       "      <th>field_experience</th>\n",
       "      <th>education-level</th>\n",
       "      <th>gender</th>\n",
       "      <th>race</th>\n",
       "      <th>multiracial</th>\n",
       "      <th>multistate</th>\n",
       "    </tr>\n",
       "  </thead>\n",
       "  <tbody>\n",
       "    <tr>\n",
       "      <th>2707</th>\n",
       "      <td>2708</td>\n",
       "      <td>2021-07-06 18:49:41</td>\n",
       "      <td>25-34</td>\n",
       "      <td>Nonprofits</td>\n",
       "      <td>Districtwide Program Coordinator</td>\n",
       "      <td>NaN</td>\n",
       "      <td>47000</td>\n",
       "      <td>0.0</td>\n",
       "      <td>USD</td>\n",
       "      <td>NaN</td>\n",
       "      <td>...</td>\n",
       "      <td>United States</td>\n",
       "      <td>Michigan</td>\n",
       "      <td>Decatur</td>\n",
       "      <td>8 - 10 years</td>\n",
       "      <td>8 - 10 years</td>\n",
       "      <td>Master's degree</td>\n",
       "      <td>Woman</td>\n",
       "      <td>White</td>\n",
       "      <td>No</td>\n",
       "      <td>No</td>\n",
       "    </tr>\n",
       "  </tbody>\n",
       "</table>\n",
       "<p>1 rows × 21 columns</p>\n",
       "</div>"
      ],
      "text/plain": [
       "        id           timestamp age_range    industry  \\\n",
       "2707  2708 2021-07-06 18:49:41     25-34  Nonprofits   \n",
       "\n",
       "                                   job job_context  annual_salary  \\\n",
       "2707  Districtwide Program Coordinator         NaN          47000   \n",
       "\n",
       "      add_compensation currency other_currency  ...        country     state  \\\n",
       "2707               0.0      USD            NaN  ...  United States  Michigan   \n",
       "\n",
       "         city all_experience field_experience  education-level gender   race  \\\n",
       "2707  Decatur   8 - 10 years     8 - 10 years  Master's degree  Woman  White   \n",
       "\n",
       "     multiracial multistate  \n",
       "2707          No         No  \n",
       "\n",
       "[1 rows x 21 columns]"
      ]
     },
     "execution_count": 53,
     "metadata": {},
     "output_type": "execute_result"
    }
   ],
   "source": [
    "# recode as other_currency = NaN \n",
    "\n",
    "df['other_currency'] = df['other_currency'].replace(['47000'], 'NaN')\n",
    "df.loc[df['id'] == 2708]"
   ]
  },
  {
   "cell_type": "code",
   "execution_count": 54,
   "id": "952ccafd",
   "metadata": {},
   "outputs": [],
   "source": [
    "df['other_currency'] = df['other_currency'].replace([\n",
    "                    'Dkk', \n",
    "                    'Bdt', \n",
    "                    'Czk', \n",
    "                    'Korean Won', \n",
    "                    'Israeli Shekels',\n",
    "                    'Canadian'],  \n",
    "                        ['DKK', \n",
    "                         'BDT', \n",
    "                         'CZK', \n",
    "                         'KRW', \n",
    "                         'ILS',\n",
    "                         'CAD'])"
   ]
  },
  {
   "cell_type": "code",
   "execution_count": 55,
   "id": "2b655c98",
   "metadata": {},
   "outputs": [
    {
     "data": {
      "text/plain": [
       "array([nan, 'DKK', 'TTD', 'NaN', 'BDT', 'TRY', 'CAD', 'INR', 'CZK', 'IDR',\n",
       "       'NOK', 'SGD', 'AUD', 'MYR', 'ARS', 'ILS', 'BRL', 'KRW', 'None',\n",
       "       'NZD', 'THB', 'NGN', 'PLN'], dtype=object)"
      ]
     },
     "execution_count": 55,
     "metadata": {},
     "output_type": "execute_result"
    }
   ],
   "source": [
    "df.other_currency.unique()"
   ]
  },
  {
   "cell_type": "markdown",
   "id": "344f9868",
   "metadata": {},
   "source": [
    "## Drop city data\n",
    "It's such a mess and I'm not planning to use it. Could do more work to clean it up and try resolving problems with either OpenRefine or Google Maps API, but it's just not precise enough to be useful (e.g., \"metro area\")."
   ]
  },
  {
   "cell_type": "code",
   "execution_count": 56,
   "id": "053682c0",
   "metadata": {},
   "outputs": [
    {
     "data": {
      "text/html": [
       "<div>\n",
       "<style scoped>\n",
       "    .dataframe tbody tr th:only-of-type {\n",
       "        vertical-align: middle;\n",
       "    }\n",
       "\n",
       "    .dataframe tbody tr th {\n",
       "        vertical-align: top;\n",
       "    }\n",
       "\n",
       "    .dataframe thead th {\n",
       "        text-align: right;\n",
       "    }\n",
       "</style>\n",
       "<table border=\"1\" class=\"dataframe\">\n",
       "  <thead>\n",
       "    <tr style=\"text-align: right;\">\n",
       "      <th></th>\n",
       "      <th>id</th>\n",
       "      <th>timestamp</th>\n",
       "      <th>age_range</th>\n",
       "      <th>industry</th>\n",
       "      <th>job</th>\n",
       "      <th>job_context</th>\n",
       "      <th>annual_salary</th>\n",
       "      <th>add_compensation</th>\n",
       "      <th>currency</th>\n",
       "      <th>other_currency</th>\n",
       "      <th>income_context</th>\n",
       "      <th>country</th>\n",
       "      <th>state</th>\n",
       "      <th>all_experience</th>\n",
       "      <th>field_experience</th>\n",
       "      <th>education-level</th>\n",
       "      <th>gender</th>\n",
       "      <th>race</th>\n",
       "      <th>multiracial</th>\n",
       "      <th>multistate</th>\n",
       "    </tr>\n",
       "  </thead>\n",
       "  <tbody>\n",
       "    <tr>\n",
       "      <th>0</th>\n",
       "      <td>1</td>\n",
       "      <td>2021-04-27 11:03:01</td>\n",
       "      <td>35-44</td>\n",
       "      <td>Accounting, Banking &amp; Finance</td>\n",
       "      <td>Senior Accountant</td>\n",
       "      <td>NaN</td>\n",
       "      <td>45000</td>\n",
       "      <td>0.0</td>\n",
       "      <td>USD</td>\n",
       "      <td>NaN</td>\n",
       "      <td>I work for a Charter School</td>\n",
       "      <td>United States</td>\n",
       "      <td>Florida</td>\n",
       "      <td>21 - 30 years</td>\n",
       "      <td>21 - 30 years</td>\n",
       "      <td>College degree</td>\n",
       "      <td>Woman</td>\n",
       "      <td>Hispanic Latino or Spanish origin</td>\n",
       "      <td>Yes</td>\n",
       "      <td>No</td>\n",
       "    </tr>\n",
       "  </tbody>\n",
       "</table>\n",
       "</div>"
      ],
      "text/plain": [
       "   id           timestamp age_range                       industry  \\\n",
       "0   1 2021-04-27 11:03:01     35-44  Accounting, Banking & Finance   \n",
       "\n",
       "                 job job_context  annual_salary  add_compensation currency  \\\n",
       "0  Senior Accountant         NaN          45000               0.0      USD   \n",
       "\n",
       "  other_currency               income_context        country    state  \\\n",
       "0            NaN  I work for a Charter School  United States  Florida   \n",
       "\n",
       "  all_experience field_experience education-level gender  \\\n",
       "0  21 - 30 years    21 - 30 years  College degree  Woman   \n",
       "\n",
       "                                race multiracial multistate  \n",
       "0  Hispanic Latino or Spanish origin         Yes         No  "
      ]
     },
     "execution_count": 56,
     "metadata": {},
     "output_type": "execute_result"
    }
   ],
   "source": [
    "df = df.drop(['city'], axis=1)\n",
    "df.head(1)"
   ]
  },
  {
   "cell_type": "markdown",
   "id": "8e9cfd81",
   "metadata": {},
   "source": [
    "## Clean up industry"
   ]
  },
  {
   "cell_type": "code",
   "execution_count": 57,
   "id": "07504b90",
   "metadata": {},
   "outputs": [],
   "source": [
    "# df.industry.unique() # Used a text editor to quickly organize these "
   ]
  },
  {
   "cell_type": "code",
   "execution_count": 58,
   "id": "2544543a",
   "metadata": {},
   "outputs": [],
   "source": [
    "# create new broader categories\n",
    "\n",
    "df['industry'] = df['industry'].replace([\n",
    "                    'Accounting, Banking & Finance',\n",
    "                    'Mortgage',\n",
    "                    'FinTech/Payment Processing',\n",
    "                    'commodities trading'],\n",
    "                                      'Financial')"
   ]
  },
  {
   "cell_type": "code",
   "execution_count": 59,
   "id": "076a4b04",
   "metadata": {},
   "outputs": [],
   "source": [
    "df['industry'] = df['industry'].replace([\n",
    "                    'Government and Public Administration',\n",
    "                    'Government Relation'],\n",
    "                                      'Government')"
   ]
  },
  {
   "cell_type": "code",
   "execution_count": 60,
   "id": "76ba34e6",
   "metadata": {},
   "outputs": [],
   "source": [
    "df['industry'] = df['industry'].replace([\n",
    "                    'Computing or Tech',\n",
    "                    'IT MSP',\n",
    "                    'Virtual reality',\n",
    "                    'Saas',\n",
    "                    'I work for Indeed.com',\n",
    "                    'Customer Service'],\n",
    "                                      'Tech')"
   ]
  },
  {
   "cell_type": "code",
   "execution_count": 61,
   "id": "16abf9eb",
   "metadata": {},
   "outputs": [],
   "source": [
    "df['industry'] = df['industry'].replace([\n",
    "                    'Synthetic Chemical Manufacturing',\n",
    "                    'Engineering or Manufacturing',\n",
    "                    'Manufacturing',\n",
    "                    'Manufacturing : corporate admin support'],\n",
    "                                      'Manufacturing')"
   ]
  },
  {
   "cell_type": "code",
   "execution_count": 62,
   "id": "59c077a3",
   "metadata": {},
   "outputs": [],
   "source": [
    "df['industry'] = df['industry'].replace([\n",
    "                    'Nonprofits',\n",
    "                    'Nonprofit - legal department'],\n",
    "                                      'Nonprofit')"
   ]
  },
  {
   "cell_type": "code",
   "execution_count": 63,
   "id": "1967e47b",
   "metadata": {},
   "outputs": [],
   "source": [
    "df['industry'] = df['industry'].replace([\n",
    "                    'Consumer goods',\n",
    "                    'Consumer Good (Toys)',\n",
    "                    'Wholesale - Apparel',\n",
    "                    'Retail', \n",
    "                    'FMCG',\n",
    "                    'Consumer Goods',\n",
    "                    'FMCG development',\n",
    "                    'Ecommerce',\n",
    "                    'Ecommerce',\n",
    "                    'Fashion/e-commerce'],\n",
    "                                      'Consumer Goods')"
   ]
  },
  {
   "cell_type": "code",
   "execution_count": 64,
   "id": "596b621c",
   "metadata": {},
   "outputs": [],
   "source": [
    "df['industry'] = df['industry'].replace([\n",
    "                    'Sales',\n",
    "                    'Sales operations'],\n",
    "                                      'Sales')"
   ]
  },
  {
   "cell_type": "code",
   "execution_count": 65,
   "id": "f6ffc7d2",
   "metadata": {},
   "outputs": [],
   "source": [
    "df['industry'] = df['industry'].replace([\n",
    "                    'Real Estate',\n",
    "                    'Real Estate',       \n",
    "                    'Property Management',\n",
    "                    'Commercial Real Estate'],\n",
    "                                      'Property or Construction')"
   ]
  },
  {
   "cell_type": "code",
   "execution_count": 66,
   "id": "4dbfab56",
   "metadata": {},
   "outputs": [],
   "source": [
    "df['industry'] = df['industry'].replace([\n",
    "                    'Instructional Design and Training', \n",
    "                    'Educational technology',\n",
    "                    'Educational publishing / ed tech',\n",
    "                    'ESL Teacher'],\n",
    "                                      'Other Education')"
   ]
  },
  {
   "cell_type": "code",
   "execution_count": 67,
   "id": "7fae32fb",
   "metadata": {},
   "outputs": [],
   "source": [
    "df['industry'] = df['industry'].replace([\n",
    "                    'Education (Higher Education)',\n",
    "                    'Academic science',\n",
    "                    'Science academia',\n",
    "                    'Research - academic',\n",
    "                    'Research and Development Academia',\n",
    "                    'academic research',\n",
    "                    'Academic science'],\n",
    "                                      'Higher Education')"
   ]
  },
  {
   "cell_type": "code",
   "execution_count": 68,
   "id": "12442f14",
   "metadata": {},
   "outputs": [],
   "source": [
    "df['industry'] = df['industry'].replace([\n",
    "                    'Marketing and PR',\n",
    "                    'market research',\n",
    "                    'Market Research',\n",
    "                    'Public affairs / PR'],\n",
    "                                      'Marketing, Advertising & PR')"
   ]
  },
  {
   "cell_type": "code",
   "execution_count": 69,
   "id": "fc9d44c0",
   "metadata": {},
   "outputs": [],
   "source": [
    "df['industry'] = df['industry'].replace([\n",
    "                    'Supply Chain',\n",
    "                    'Coffee - Importing',\n",
    "                    'Logistics'],\n",
    "                                      'Transport or Logistics')"
   ]
  },
  {
   "cell_type": "code",
   "execution_count": 70,
   "id": "9ef4e3ab",
   "metadata": {},
   "outputs": [],
   "source": [
    "df['industry'] = df['industry'].replace([\n",
    "                    'Hospital', \n",
    "                    'Public health',\n",
    "                    'Healthcare IT'],\n",
    "                                        'Health Care')"
   ]
  },
  {
   "cell_type": "code",
   "execution_count": 71,
   "id": "e0e715f8",
   "metadata": {},
   "outputs": [],
   "source": [
    "df['industry'] = df['industry'].replace([\n",
    "                    'clinical research',\n",
    "                    'biomedical research',\n",
    "                    'Medical Research',\n",
    "                    'Biology/Research',\n",
    "                    'Biomedical Research',\n",
    "                    'Biologist'],\n",
    "                                        'Biomedical Research')"
   ]
  },
  {
   "cell_type": "code",
   "execution_count": 72,
   "id": "ded3edc5",
   "metadata": {},
   "outputs": [],
   "source": [
    "df['industry'] = df['industry'].replace([\n",
    "                    'Bitech',\n",
    "                    'Biotech/Pharma',\n",
    "                    'Biotech',\n",
    "                    'Biotechnology',\n",
    "                    'Biotech/pharmaceuticals',\n",
    "                    'Biotech/pharma',\n",
    "                    'Biotech/Drug Development',\n",
    "                    'Pharmaceutical',\n",
    "                    'Pharmaceutical Research',\n",
    "                    'Pharmaceutical research',\n",
    "                    'Pharmaceuticals',\n",
    "                    'Pharma',\n",
    "                    'Pharmaceutical R&D',\n",
    "                    'Drug development'],\n",
    "                                        'Pharmaceuticals')"
   ]
  },
  {
   "cell_type": "code",
   "execution_count": 73,
   "id": "40eba959",
   "metadata": {},
   "outputs": [],
   "source": [
    "df['industry'] = df['industry'].replace([\n",
    "                    'Recruitment or HR',\n",
    "                    'Human Resources',\n",
    "                    'Benefits Administration'],\n",
    "                                        'Human Resources')"
   ]
  },
  {
   "cell_type": "code",
   "execution_count": 74,
   "id": "ebfcb81e",
   "metadata": {},
   "outputs": [],
   "source": [
    "df['industry'] = df['industry'].replace([\n",
    "                    'Defense contracting',\n",
    "                    'Federal Contracting/Business Development',\n",
    "                    'Federal Government Contracting'],\n",
    "                                        'Government Contracting')"
   ]
  },
  {
   "cell_type": "code",
   "execution_count": 75,
   "id": "c5cfc7be",
   "metadata": {},
   "outputs": [],
   "source": [
    "df['industry'] = df['industry'].replace([\n",
    "                    'apparel design/product development'],\n",
    "                                        'Art & Design')"
   ]
  },
  {
   "cell_type": "code",
   "execution_count": 76,
   "id": "1e5871ba",
   "metadata": {},
   "outputs": [],
   "source": [
    "df['industry'] = df['industry'].replace([\n",
    "                    'Oil & Gas', \n",
    "                    'Renewable Energy',\n",
    "                    'Energy: oil & gas'],\n",
    "                                        'Energy')"
   ]
  },
  {
   "cell_type": "code",
   "execution_count": 77,
   "id": "468fd9b0",
   "metadata": {},
   "outputs": [],
   "source": [
    "df['industry'] = df['industry'].replace([\n",
    "                    'Security'],\n",
    "                                        'Law Enforcement & Security')"
   ]
  },
  {
   "cell_type": "code",
   "execution_count": 78,
   "id": "016bd3a8",
   "metadata": {},
   "outputs": [],
   "source": [
    "df['industry'] = df['industry'].replace([\n",
    "                    'Public Librarian',\n",
    "                    'Public Library',\n",
    "                    'Librarian and Assistant Manager of a library',\n",
    "                    'Public library', \n",
    "                    'Library',     \n",
    "                    'Librarian in legal setting',\n",
    "                    'municipal (public) libraries',\n",
    "                    'Libraries',\n",
    "                    'Public Libraries',\n",
    "                    'Library/Archive',\n",
    "                    'Library science / part-time work/study',\n",
    "                    'Library Tech for a school system',\n",
    "                    'library',\n",
    "                    'Librarian',\n",
    "                    'Museums',\n",
    "                    'Archives/Libraries',\n",
    "                    'Education (Other)'], #checked title\n",
    "                                        'Libraries & Museums')"
   ]
  },
  {
   "cell_type": "code",
   "execution_count": 79,
   "id": "87d6b1ba",
   "metadata": {},
   "outputs": [],
   "source": [
    "df['industry'] = df['industry'].replace([\n",
    "                    'auto repair',\n",
    "                    'Automotive technician',\n",
    "                    'Automotive'],\n",
    "                                        'Automtive Repair')"
   ]
  },
  {
   "cell_type": "code",
   "execution_count": 80,
   "id": "14f0fc64",
   "metadata": {},
   "outputs": [],
   "source": [
    "df['industry'] = df['industry'].replace([\n",
    "                    'Government Affairs/Lobbying',\n",
    "                    'Politics', \n",
    "                    'Union/political organizing'],\n",
    "                                        'Politics')"
   ]
  },
  {
   "cell_type": "code",
   "execution_count": 81,
   "id": "e5c5d26c",
   "metadata": {},
   "outputs": [],
   "source": [
    "df['industry'] = df['industry'].replace([\n",
    "                    'Veterinary medicine',\n",
    "                    'Pet',\n",
    "                    'Veterinary m&a'],\n",
    "                                        'Veterinary')"
   ]
  },
  {
   "cell_type": "code",
   "execution_count": 82,
   "id": "a6b42be9",
   "metadata": {},
   "outputs": [],
   "source": [
    "df['industry'] = df['industry'].replace([\n",
    "                    'Environmental Consulting',\n",
    "                    'Environmental consulting',\n",
    "                    'Consulting',\n",
    "                    'Consultant',  \n",
    "                    'Business or Consulting'],\n",
    "                                        'Consulting')"
   ]
  },
  {
   "cell_type": "code",
   "execution_count": 83,
   "id": "7c857727",
   "metadata": {},
   "outputs": [],
   "source": [
    "df['industry'] = df['industry'].replace([\n",
    "                    'Restaurant',\n",
    "                    'Food Manufacture',\n",
    "                    'Food service',\n",
    "                    'Craft Beer Industry',  \n",
    "                    'Beverage'],\n",
    "                                        'Food & Beverage')"
   ]
  },
  {
   "cell_type": "code",
   "execution_count": 84,
   "id": "d56f2081",
   "metadata": {},
   "outputs": [],
   "source": [
    "df['industry'] = df['industry'].replace([\n",
    "                    'Fundraising for a university'],\n",
    "                                        'Fundraising')"
   ]
  },
  {
   "cell_type": "code",
   "execution_count": 85,
   "id": "bc06f6eb",
   "metadata": {},
   "outputs": [],
   "source": [
    "df['industry'] = df['industry'].replace([\n",
    "                    'Faith/spirituality', \n",
    "                    'Clergy'],\n",
    "                                        'Faith & Spirituality')"
   ]
  },
  {
   "cell_type": "code",
   "execution_count": 86,
   "id": "d8f2e809",
   "metadata": {},
   "outputs": [],
   "source": [
    "df['industry'] = df['industry'].replace([\n",
    "                    'funeral services',\n",
    "                    'Funeral services'],\n",
    "                                        'Funeral Services')"
   ]
  },
  {
   "cell_type": "code",
   "execution_count": 87,
   "id": "e6cb2ad8",
   "metadata": {},
   "outputs": [],
   "source": [
    "df['industry'] = df['industry'].replace([\n",
    "                    'Environmental',\n",
    "                    'Enviromental',\n",
    "                    'Environment',\n",
    "                    'Environmental Restoration'],\n",
    "                                        'Environmental')"
   ]
  },
  {
   "cell_type": "markdown",
   "id": "11ef11f6",
   "metadata": {},
   "source": [
    "## Final clean up and export"
   ]
  },
  {
   "cell_type": "code",
   "execution_count": 88,
   "id": "31bde968",
   "metadata": {},
   "outputs": [],
   "source": [
    "# fix all nan values\n",
    "df.fillna('NaN', inplace=True)"
   ]
  },
  {
   "cell_type": "code",
   "execution_count": 89,
   "id": "8b60133c",
   "metadata": {},
   "outputs": [],
   "source": [
    "df.to_csv('clean_salaries.csv')"
   ]
  }
 ],
 "metadata": {
  "kernelspec": {
   "display_name": "Python 3 (ipykernel)",
   "language": "python",
   "name": "python3"
  },
  "language_info": {
   "codemirror_mode": {
    "name": "ipython",
    "version": 3
   },
   "file_extension": ".py",
   "mimetype": "text/x-python",
   "name": "python",
   "nbconvert_exporter": "python",
   "pygments_lexer": "ipython3",
   "version": "3.9.13"
  }
 },
 "nbformat": 4,
 "nbformat_minor": 5
}
